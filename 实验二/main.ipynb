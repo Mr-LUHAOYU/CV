{
 "cells": [
  {
   "cell_type": "code",
   "execution_count": null,
   "id": "a12e20e01c7094b8",
   "metadata": {
    "collapsed": false
   },
   "outputs": [],
   "source": [
    "import torch\n",
    "import torch.nn as nn\n",
    "import torchvision\n",
    "import torchvision.transforms as transforms\n",
    "from torch.utils.data import DataLoader\n",
    "from tqdm import tqdm, trange\n",
    "import matplotlib.pyplot as plt\n",
    "from typing import Any, Callable, List, Optional, Type, Union\n",
    "from torch import Tensor"
   ]
  },
  {
   "cell_type": "markdown",
   "id": "54d4ded072ea221b",
   "metadata": {},
   "source": [
    "# 打补丁"
   ]
  },
  {
   "cell_type": "code",
   "execution_count": null,
   "id": "cec8915a5c3c51fb",
   "metadata": {
    "collapsed": false
   },
   "outputs": [],
   "source": [
    "def conv3x3(in_planes: int, out_planes: int, stride: int = 1, groups: int = 1, dilation: int = 1) -> nn.Conv2d:\n",
    "    \"\"\"3x3 convolution with padding\"\"\"\n",
    "    return nn.Conv2d(\n",
    "        in_planes,\n",
    "        out_planes,\n",
    "        kernel_size=3,\n",
    "        stride=stride,\n",
    "        padding=dilation,\n",
    "        groups=groups,\n",
    "        bias=False,\n",
    "        dilation=dilation,\n",
    "    )\n",
    "\n",
    "\n",
    "def conv1x1(in_planes: int, out_planes: int, stride: int = 1) -> nn.Conv2d:\n",
    "    \"\"\"1x1 convolution\"\"\"\n",
    "    return nn.Conv2d(in_planes, out_planes, kernel_size=1, stride=stride, bias=False)\n"
   ]
  },
  {
   "cell_type": "code",
   "execution_count": null,
   "id": "f666f82a5daae3fd",
   "metadata": {
    "collapsed": false
   },
   "outputs": [],
   "source": [
    "class MyBasicBlock(nn.Module):\n",
    "    expansion: int = 1\n",
    "    scale_factor: float = 1\n",
    "    \n",
    "    def __init__(\n",
    "        self,\n",
    "        inplanes: int,\n",
    "        planes: int,\n",
    "        stride: int = 1,\n",
    "        downsample: Optional[nn.Module] = None,\n",
    "        groups: int = 1,\n",
    "        base_width: int = 64,\n",
    "        dilation: int = 1,\n",
    "        norm_layer: Optional[Callable[..., nn.Module]] = None,\n",
    "    ) -> None:\n",
    "        super().__init__()\n",
    "        if norm_layer is None:\n",
    "            norm_layer = nn.BatchNorm2d\n",
    "        # if groups != 1 or base_width != 64:\n",
    "        #     raise ValueError(\"BasicBlock only supports groups=1 and base_width=64\")\n",
    "        if dilation > 1:\n",
    "            raise NotImplementedError(\"Dilation > 1 not supported in BasicBlock\")\n",
    "        # Both self.conv1 and self.downsample layers downsample the input when stride != 1\n",
    "        self.conv1 = conv3x3(inplanes, planes, stride)\n",
    "        self.bn1 = norm_layer(planes)\n",
    "        self.relu = nn.ReLU(inplace=True)\n",
    "        self.conv2 = conv3x3(planes, planes)\n",
    "        self.bn2 = norm_layer(planes)\n",
    "        self.downsample = downsample\n",
    "        self.stride = stride\n",
    "\n",
    "    def forward(self, x: Tensor) -> Tensor:\n",
    "        identity = x\n",
    "\n",
    "        out = self.conv1(x)\n",
    "        out = self.bn1(out)\n",
    "        out = self.relu(out)\n",
    "\n",
    "        out = self.conv2(out)\n",
    "        out = self.bn2(out)\n",
    "\n",
    "        if self.downsample is not None:\n",
    "            identity = self.downsample(x)\n",
    "\n",
    "        # out += identity\n",
    "        out = self.scale_factor * out + identity\n",
    "        out = self.relu(out)\n",
    "\n",
    "        return out\n",
    "\n",
    "from torchvision.models import resnet\n",
    "resnet.BasicBlock = MyBasicBlock"
   ]
  },
  {
   "cell_type": "markdown",
   "id": "b504235f2f858edb",
   "metadata": {},
   "source": [
    "# 实验配置"
   ]
  },
  {
   "cell_type": "code",
   "execution_count": null,
   "id": "30db9cfdc0c2c4ff",
   "metadata": {
    "collapsed": false
   },
   "outputs": [],
   "source": [
    "# 基础配置\n",
    "BATCH_SIZE = 128\n",
    "EPOCHS = 20\n",
    "NUM_CLASSES = 100\n",
    "DEVICE = torch.device(\"cuda\" if torch.cuda.is_available() else \"cpu\")"
   ]
  },
  {
   "cell_type": "code",
   "execution_count": null,
   "id": "3d303db07fbfaf30",
   "metadata": {
    "collapsed": false
   },
   "outputs": [],
   "source": [
    "# 数据预处理\n",
    "transform_train = transforms.Compose([\n",
    "    transforms.RandomCrop(32, padding=4),\n",
    "    transforms.RandomHorizontalFlip(),\n",
    "    transforms.ToTensor(),\n",
    "    transforms.Normalize((0.5071, 0.4867, 0.4408), (0.2675, 0.2565, 0.2761)),\n",
    "])\n",
    "\n",
    "transform_test = transforms.Compose([\n",
    "    transforms.ToTensor(),\n",
    "    transforms.Normalize((0.5071, 0.4867, 0.4408), (0.2675, 0.2565, 0.2761)),\n",
    "])"
   ]
  },
  {
   "cell_type": "code",
   "execution_count": null,
   "id": "f7244282-18e9-48ba-8c3b-61b5f99e7769",
   "metadata": {},
   "outputs": [],
   "source": [
    "train_set = torchvision.datasets.CIFAR100(root='./data', train=True, download=False, transform=transform_train)\n",
    "test_set = torchvision.datasets.CIFAR100(root='./data', train=False, download=False, transform=transform_test)\n",
    "\n",
    "train_loader = DataLoader(train_set, batch_size=BATCH_SIZE, shuffle=True, num_workers=4)\n",
    "test_loader = DataLoader(test_set, batch_size=BATCH_SIZE, shuffle=False, num_workers=4)\n"
   ]
  },
  {
   "cell_type": "markdown",
   "id": "3f697b8f0d95cb65",
   "metadata": {},
   "source": [
    "# 实验函数"
   ]
  },
  {
   "cell_type": "code",
   "execution_count": null,
   "id": "e5ed3d2527af277a",
   "metadata": {
    "collapsed": false
   },
   "outputs": [],
   "source": [
    "# 实验控制函数\n",
    "def run_experiment(model, experiment_name):\n",
    "    model = model.to(DEVICE)\n",
    "    criterion = nn.CrossEntropyLoss()\n",
    "    optimizer = torch.optim.Adam(model.parameters(), lr=0.001)\n",
    "    scheduler = torch.optim.lr_scheduler.CosineAnnealingLR(optimizer, T_max=EPOCHS)\n",
    "\n",
    "    train_acc_list = []\n",
    "    train_loss_list = []\n",
    "    test_acc_list = []\n",
    "    test_loss_list = []    \n",
    "    for epoch in trange(EPOCHS):\n",
    "        model.train()\n",
    "        train_loss = 0.0\n",
    "        correct = 0\n",
    "        total = 0\n",
    "        \n",
    "        # for inputs, targets in tqdm(train_loader):\n",
    "        for inputs, targets in train_loader:\n",
    "            inputs, targets = inputs.to(DEVICE), targets.to(DEVICE)\n",
    "            optimizer.zero_grad()\n",
    "            outputs = model(inputs)\n",
    "            loss = criterion(outputs, targets)\n",
    "            loss.backward()\n",
    "            optimizer.step()\n",
    "\n",
    "            train_loss += loss.item()\n",
    "            _, predicted = outputs.max(1)\n",
    "            total += targets.size(0)\n",
    "            correct += predicted.eq(targets).sum().item()\n",
    "        \n",
    "        scheduler.step()\n",
    "        train_acc = 100.*correct/total\n",
    "\n",
    "        # 测试阶段\n",
    "        model.eval()\n",
    "        test_loss = 0.0\n",
    "        correct = 0\n",
    "        total = 0\n",
    "        with torch.no_grad():\n",
    "            for inputs, targets in test_loader:\n",
    "                inputs, targets = inputs.to(DEVICE), targets.to(DEVICE)\n",
    "                outputs = model(inputs)\n",
    "                loss = criterion(outputs, targets)\n",
    "\n",
    "                test_loss += loss.item()\n",
    "                _, predicted = outputs.max(1)\n",
    "                total += targets.size(0)\n",
    "                correct += predicted.eq(targets).sum().item()\n",
    "\n",
    "        test_acc = 100.*correct/total\n",
    "        \n",
    "        train_acc_list.append(train_acc)\n",
    "        train_loss_list.append(train_loss)\n",
    "        test_acc_list.append(test_acc)\n",
    "        test_loss_list.append(test_loss)\n",
    "    \n",
    "    print(f\"{experiment_name} | Epoch {epoch+1}/{EPOCHS} | Train Acc: {train_acc:.2f}% | Test Acc: {test_acc:.2f}%\")\n",
    "    \n",
    "    return train_acc_list, train_loss_list, test_acc_list, test_loss_list"
   ]
  },
  {
   "cell_type": "code",
   "execution_count": null,
   "id": "a1434ccacd447e13",
   "metadata": {
    "collapsed": false
   },
   "outputs": [],
   "source": [
    "def plot_experiment_results(experiments, results):\n",
    "    cols = ['Train Acc', 'Train Loss', 'Test Acc', 'Test Loss']\n",
    "    fig, ax = plt.subplots(2,2)\n",
    "    for i, col in enumerate(cols):\n",
    "        ax[i//2, i%2].set_title(col)\n",
    "        ax[i//2, i%2].set_xlabel('Epoch')\n",
    "        ax[i//2, i%2].set_ylabel('')\n",
    "        for j, experiment in enumerate(experiments):\n",
    "            ax[i//2, i%2].plot(results[j][i], label=experiment)\n",
    "            ax[i//2, i%2].legend()\n",
    "    fig.tight_layout()  # 自动调整布局\n",
    "    plt.show()\n",
    "    "
   ]
  },
  {
   "cell_type": "markdown",
   "id": "cde8583a23a93718",
   "metadata": {},
   "source": [
    "# 实验配置"
   ]
  },
  {
   "cell_type": "code",
   "execution_count": null,
   "id": "c4606293aac7aedd",
   "metadata": {
    "collapsed": false
   },
   "outputs": [],
   "source": [
    "from torchvision.models.resnet import resnet18, resnet34, resnet50"
   ]
  },
  {
   "cell_type": "code",
   "execution_count": null,
   "id": "80a97ddd0b43d22e",
   "metadata": {
    "collapsed": false
   },
   "outputs": [],
   "source": [
    "# 实验1：不同深度对比\n",
    "depth_experiments = [\n",
    "    ('ResNet-18', resnet18(num_classes=NUM_CLASSES)),\n",
    "    ('ResNet-34', resnet34(num_classes=NUM_CLASSES)),\n",
    "    ('ResNet-50', resnet50(num_classes=NUM_CLASSES)),\n",
    "]"
   ]
  },
  {
   "cell_type": "code",
   "execution_count": null,
   "id": "9e7b146d-c300-4ea4-be79-fce5a811e11b",
   "metadata": {},
   "outputs": [],
   "source": [
    "# 实验4：不同深度对比\n",
    "depth_experiments2 = [\n",
    "    ('ResNet-18', resnet18(num_classes=NUM_CLASSES)),\n",
    "    ('ResNet-34', resnet34(num_classes=NUM_CLASSES)),\n",
    "    ('ResNet-50', resnet50(num_classes=NUM_CLASSES)),\n",
    "    ('ResNet-50p', resnet50(num_classes=NUM_CLASSES))\n",
    "]\n",
    "depth_experiments2[3][1].conv1 = nn.Conv2d(3, 64, kernel_size=3, stride=1, padding=1, bias=False)\n",
    "depth_experiments2[3][1].maxpool = nn.Identity()"
   ]
  },
  {
   "cell_type": "code",
   "execution_count": null,
   "id": "f0ed05b500873faa",
   "metadata": {
    "collapsed": false
   },
   "outputs": [],
   "source": [
    "# 实验2：不同宽度对比\n",
    "width_experiments = [\n",
    "    ('Width-0.5x', resnet34(num_classes=NUM_CLASSES, width_per_group=64*0.5)),\n",
    "    ('Width-1x', resnet34(num_classes=NUM_CLASSES, width_per_group=64)),\n",
    "    ('Width-2x', resnet34(num_classes=NUM_CLASSES, width_per_group=64*2))\n",
    "]"
   ]
  },
  {
   "cell_type": "code",
   "execution_count": null,
   "id": "5deca4fb41c4d69b",
   "metadata": {
    "collapsed": false
   },
   "outputs": [],
   "source": [
    "from torchvision.models.resnet import ResNet\n",
    "def resnet34(scale, **kwargs: Any) -> ResNet:\n",
    "    MyBasicBlock.scale = scale\n",
    "    return resnet.resnet34(**kwargs)\n"
   ]
  },
  {
   "cell_type": "code",
   "execution_count": null,
   "id": "20f409e7ca40e75b",
   "metadata": {
    "collapsed": false
   },
   "outputs": [],
   "source": [
    "# 实验3：残差连接对比\n",
    "residual_experiments = [\n",
    "    ('scale-2.0x', resnet34(2.0, num_classes=NUM_CLASSES)),\n",
    "    ('scale-1.0x', resnet34(1.0, num_classes=NUM_CLASSES)),\n",
    "    ('scale-0.5x', resnet34(0.5, num_classes=NUM_CLASSES)),\n",
    "    ('scale-0.0x', resnet34(0.0, num_classes=NUM_CLASSES))\n",
    "]"
   ]
  },
  {
   "cell_type": "code",
   "execution_count": null,
   "id": "af8dd921-14c5-4567-bfea-1fa2bc1a1bc5",
   "metadata": {},
   "outputs": [],
   "source": [
    "def run_experiments(experiment_list):\n",
    "    results = []\n",
    "    for name, model in experiment_list:\n",
    "        results.append(run_experiment(model,name))\n",
    "    plot_experiment_results([name for name, _ in experiment_list], results)"
   ]
  },
  {
   "cell_type": "markdown",
   "id": "67ed6d0dad855b0d",
   "metadata": {},
   "source": [
    "# 运行实验（根据需要选择执行）"
   ]
  },
  {
   "cell_type": "code",
   "execution_count": null,
   "id": "57ca939c-0de9-4299-ac95-447b2b9c26c2",
   "metadata": {},
   "outputs": [],
   "source": [
    "run_experiments(depth_experiments)"
   ]
  },
  {
   "cell_type": "code",
   "execution_count": null,
   "id": "de66984a-037a-4905-b9cf-5d0f354033b6",
   "metadata": {},
   "outputs": [],
   "source": [
    "run_experiments(width_experiments)"
   ]
  },
  {
   "cell_type": "code",
   "execution_count": null,
   "id": "387e7dc4-93a5-42d3-b740-b72be9dcb1e5",
   "metadata": {},
   "outputs": [],
   "source": [
    "run_experiments(residual_experiments)"
   ]
  },
  {
   "cell_type": "code",
   "execution_count": null,
   "id": "56dcc1f7-510f-410b-87d4-fdc45cab9aac",
   "metadata": {},
   "outputs": [],
   "source": [
    "run_experiments(depth_experiments2)"
   ]
  }
 ],
 "metadata": {
  "kernelspec": {
   "display_name": "Python 3 (ipykernel)",
   "language": "python",
   "name": "python3"
  },
  "language_info": {
   "codemirror_mode": {
    "name": "ipython",
    "version": 3
   },
   "file_extension": ".py",
   "mimetype": "text/x-python",
   "name": "python",
   "nbconvert_exporter": "python",
   "pygments_lexer": "ipython3",
   "version": "3.8.10"
  }
 },
 "nbformat": 4,
 "nbformat_minor": 5
}
