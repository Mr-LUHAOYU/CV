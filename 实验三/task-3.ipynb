{
 "cells": [
  {
   "cell_type": "code",
   "outputs": [],
   "source": [
    "import clip\n",
    "import torch\n",
    "import torchvision\n",
    "import torchvision.transforms as transforms\n",
    "from torch.utils.data import DataLoader\n",
    "from tqdm import tqdm\n",
    "from sklearn.metrics import accuracy_score"
   ],
   "metadata": {
    "collapsed": false
   },
   "id": "1ba6dcdd779d86a1",
   "execution_count": null
  },
  {
   "cell_type": "code",
   "outputs": [],
   "source": [
    "# 加载CLIP模型\n",
    "device = \"cuda\" if torch.cuda.is_available() else \"cpu\"\n",
    "model, preprocess = clip.load(\"ViT-B/32\", device=device)\n",
    "\n",
    "# 加载CIFAR-100数据集\n",
    "transform = transforms.Compose([\n",
    "    transforms.Resize((224, 224)),  # CLIP需要224x224输入\n",
    "    transforms.ToTensor(),\n",
    "    transforms.Normalize(\n",
    "        (0.48145466, 0.4578275, 0.40821073), \n",
    "        (0.26862954, 0.26130258, 0.27577711)\n",
    "    )  # CLIP的归一化参数\n",
    "])\n",
    "\n",
    "# train_set = torchvision.datasets.CIFAR100(root='./data', train=True, download=False, transform=transform)\n",
    "test_set = torchvision.datasets.CIFAR100(root='./data', train=False, download=False, transform=transform)\n",
    "\n",
    "# train_loader = DataLoader(train_set, batch_size=64, shuffle=True)\n",
    "test_loader = DataLoader(test_set, batch_size=64, shuffle=False)"
   ],
   "metadata": {
    "collapsed": false
   },
   "id": "18987956d7d01b39",
   "execution_count": null
  },
  {
   "cell_type": "code",
   "outputs": [],
   "source": [
    "# 获取CIFAR-100的类别名称\n",
    "cifar100_classes = test_set.classes\n",
    "\n",
    "# 为CLIP创建文本提示\n",
    "text_inputs = torch.cat([clip.tokenize(f\"a photo of a {c}\") for c in cifar100_classes]).to(device)"
   ],
   "metadata": {
    "collapsed": false
   },
   "id": "9572d63035b4e009",
   "execution_count": null
  },
  {
   "cell_type": "code",
   "outputs": [],
   "source": [
    "def evaluate(model, test_loader, text_inputs):\n",
    "    model.eval()\n",
    "    all_preds = []\n",
    "    all_labels = []\n",
    "    with torch.no_grad():\n",
    "        for images, labels in tqdm(test_loader):\n",
    "            images = images.to(device)\n",
    "            labels = labels.to(device)\n",
    "            \n",
    "            # 计算图像特征\n",
    "            image_features = model.encode_image(images)\n",
    "            image_features /= image_features.norm(dim=-1, keepdim=True)\n",
    "            \n",
    "            # 计算文本特征\n",
    "            text_features = model.encode_text(text_inputs)\n",
    "            text_features /= text_features.norm(dim=-1, keepdim=True)\n",
    "            \n",
    "            # 计算相似度\n",
    "            similarity = (100.0 * image_features @ text_features.T).softmax(dim=-1)\n",
    "            predictions = similarity.argmax(dim=-1)\n",
    "               \n",
    "            all_preds.extend(predictions.cpu().numpy())\n",
    "            all_labels.extend(labels.cpu().numpy())\n",
    "            \n",
    "    accuracy = accuracy_score(all_labels, all_preds)\n",
    "    \n",
    "    return accuracy"
   ],
   "metadata": {
    "collapsed": false
   },
   "id": "9aeae06d792535dc",
   "execution_count": null
  },
  {
   "cell_type": "code",
   "outputs": [],
   "source": [
    "acc = evaluate(model, test_loader, text_inputs)\n",
    "print('accuracy:', acc)"
   ],
   "metadata": {
    "collapsed": false
   },
   "id": "165996c8f715eb46",
   "execution_count": null
  }
 ],
 "metadata": {
  "kernelspec": {
   "display_name": "Python 3",
   "language": "python",
   "name": "python3"
  },
  "language_info": {
   "codemirror_mode": {
    "name": "ipython",
    "version": 2
   },
   "file_extension": ".py",
   "mimetype": "text/x-python",
   "name": "python",
   "nbconvert_exporter": "python",
   "pygments_lexer": "ipython2",
   "version": "2.7.6"
  }
 },
 "nbformat": 4,
 "nbformat_minor": 5
}
