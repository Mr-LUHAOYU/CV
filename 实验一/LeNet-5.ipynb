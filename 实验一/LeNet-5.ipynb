{
 "cells": [
  {
   "cell_type": "code",
   "execution_count": null,
   "id": "initial_id",
   "metadata": {
    "collapsed": true
   },
   "outputs": [],
   "source": [
    "import torch\n",
    "import torch.nn as nn\n",
    "import torch.optim as optim\n",
    "import torchvision\n",
    "import torchvision.transforms as transforms\n",
    "import matplotlib.pyplot as plt\n"
   ]
  },
  {
   "cell_type": "code",
   "outputs": [],
   "source": [
    "class LeNet5(nn.Module):\n",
    "    def __init__(self, activation):\n",
    "        super(LeNet5, self).__init__()\n",
    "        self.conv1 = nn.Conv2d(3, 6, 5)  # CIFAR10是3通道图像\n",
    "        self.pool = nn.MaxPool2d(2, 2)\n",
    "        self.conv2 = nn.Conv2d(6, 16, 5)\n",
    "        self.fc1 = nn.Linear(16 * 5 * 5, 120)\n",
    "        self.fc2 = nn.Linear(120, 84)\n",
    "        self.fc3 = nn.Linear(84, 10)\n",
    "        self.activation = activation\n",
    "\n",
    "    def forward(self, x):\n",
    "        x = self.pool(self.activation(self.conv1(x)))\n",
    "        x = self.pool(self.activation(self.conv2(x)))\n",
    "        x = x.view(-1, 16 * 5 * 5)\n",
    "        x = self.activation(self.fc1(x))\n",
    "        x = self.activation(self.fc2(x))\n",
    "        x = self.fc3(x)\n",
    "        return x\n"
   ],
   "metadata": {
    "collapsed": false
   },
   "id": "53142b159b15544d",
   "execution_count": null
  },
  {
   "cell_type": "code",
   "outputs": [],
   "source": [
    "# 数据预处理\n",
    "transform = transforms.Compose([\n",
    "    transforms.ToTensor(),\n",
    "    transforms.Normalize((0.5, 0.5, 0.5), (0.5, 0.5, 0.5))\n",
    "])\n",
    "\n",
    "# 加载CIFAR10数据集\n",
    "trainset = torchvision.datasets.CIFAR10(\n",
    "    root='./data', train=True, download=False, transform=transform\n",
    ")\n",
    "trainloader = torch.utils.data.DataLoader(trainset, batch_size=32, shuffle=True)\n",
    "\n",
    "testset = torchvision.datasets.CIFAR10(\n",
    "    root='./data', train=False, download=False, transform=transform\n",
    ")\n",
    "testloader = torch.utils.data.DataLoader(testset, batch_size=32, shuffle=False)\n"
   ],
   "metadata": {
    "collapsed": false
   },
   "id": "98b37cc73fcaf480",
   "execution_count": null
  },
  {
   "cell_type": "code",
   "outputs": [],
   "source": [
    "# 训练并记录损失\n",
    "def train_and_record_loss(\n",
    "        net, trainloader, criterion, optimizer, epochs=20\n",
    "):\n",
    "    losses = []\n",
    "    accuracys = []\n",
    "    for epoch in range(epochs):\n",
    "        running_loss = 0.0\n",
    "        for i, data in enumerate(trainloader, 0):\n",
    "            inputs, labels = data\n",
    "            optimizer.zero_grad()\n",
    "            outputs = net(inputs)\n",
    "            loss = criterion(outputs, labels)\n",
    "            loss.backward()\n",
    "            optimizer.step()\n",
    "\n",
    "            running_loss += loss.item()\n",
    "            if i % 200 == 199:\n",
    "                losses.append(running_loss / 200)\n",
    "                running_loss = 0.0\n",
    "        with torch.no_grad():\n",
    "            true_count = 0\n",
    "            total_count = 0\n",
    "            for data in testloader:\n",
    "                images, labels = data\n",
    "                outputs = net(images)\n",
    "                _, predicted = torch.max(outputs.data, 1)\n",
    "                total_count += labels.size(0)\n",
    "                true_count += (predicted == labels).sum().item()\n",
    "            accuracy = true_count / total_count\n",
    "            accuracys.append(accuracy)\n",
    "            # print(f'\\rEpoch: {epoch + 1}, Accuracy: {accuracy:.4f}', end='')\n",
    "    # print()\n",
    "    return losses, accuracys\n"
   ],
   "metadata": {
    "collapsed": false
   },
   "id": "75896b6d1c7a21ed",
   "execution_count": null
  },
  {
   "cell_type": "code",
   "outputs": [],
   "source": [
    "net = LeNet5(torch.relu)\n",
    "criterion = nn.CrossEntropyLoss()\n",
    "optimizer = optim.Adam(net.parameters(), lr=0.001)\n",
    "\n",
    "losses, accuracys = train_and_record_loss(net, trainloader, criterion, optimizer)\n",
    "print(f'loss: {losses[-1]}')\n",
    "print(f'accuracy: {accuracys[-1]}')"
   ],
   "metadata": {
    "collapsed": false
   },
   "id": "8220219f8422ee3d",
   "execution_count": null
  },
  {
   "cell_type": "code",
   "outputs": [],
   "source": [
    "# 初始化网络、损失函数和优化器\n",
    "net_relu = LeNet5(torch.relu)\n",
    "net_sigmoid = LeNet5(torch.sigmoid)\n",
    "net_tanh = LeNet5(torch.tanh)\n",
    "\n",
    "criterion = nn.CrossEntropyLoss()\n",
    "optimizer_relu = optim.Adam(net_relu.parameters(), lr=0.001)\n",
    "optimizer_sigmoid = optim.Adam(net_sigmoid.parameters(), lr=0.001)\n",
    "optimizer_tanh = optim.Adam(net_tanh.parameters(), lr=0.001)\n",
    "\n",
    "# 训练并记录损失\n",
    "losses_relu, accuracys_relu = train_and_record_loss(net_relu, trainloader, criterion, optimizer_relu)\n",
    "losses_sigmoid, accuracys_sigmoid = train_and_record_loss(net_sigmoid, trainloader, criterion, optimizer_sigmoid)\n",
    "losses_tanh, accuracys_tanh = train_and_record_loss(net_tanh, trainloader, criterion, optimizer_tanh)\n"
   ],
   "metadata": {
    "collapsed": false
   },
   "id": "1edda91847615d49",
   "execution_count": null
  },
  {
   "cell_type": "code",
   "outputs": [],
   "source": [
    "# 可视化损失\n",
    "plt.plot(losses_relu, label='ReLU')\n",
    "plt.plot(losses_sigmoid, label='Sigmoid')\n",
    "plt.plot(losses_tanh, label='Tanh')\n",
    "plt.xlabel('Iterations')\n",
    "plt.ylabel('Loss')\n",
    "plt.legend()\n",
    "plt.show()"
   ],
   "metadata": {
    "collapsed": false
   },
   "id": "c25f989c80723593",
   "execution_count": null
  },
  {
   "cell_type": "code",
   "outputs": [],
   "source": [
    "# 可视化准确率\n",
    "plt.plot(accuracys_relu, label='ReLU')\n",
    "plt.plot(accuracys_sigmoid, label='Sigmoid')\n",
    "plt.plot(accuracys_tanh, label='Tanh')\n",
    "plt.xlabel('Epochs')\n",
    "plt.ylabel('Accuracy')\n",
    "plt.legend()\n",
    "plt.show()"
   ],
   "metadata": {
    "collapsed": false
   },
   "id": "9f43984deae51f9b",
   "execution_count": null
  }
 ],
 "metadata": {
  "kernelspec": {
   "display_name": "Python 3",
   "language": "python",
   "name": "python3"
  },
  "language_info": {
   "codemirror_mode": {
    "name": "ipython",
    "version": 2
   },
   "file_extension": ".py",
   "mimetype": "text/x-python",
   "name": "python",
   "nbconvert_exporter": "python",
   "pygments_lexer": "ipython2",
   "version": "2.7.6"
  }
 },
 "nbformat": 4,
 "nbformat_minor": 5
}
